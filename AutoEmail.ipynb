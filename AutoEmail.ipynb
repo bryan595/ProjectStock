{
 "cells": [
  {
   "cell_type": "code",
   "execution_count": 1,
   "metadata": {},
   "outputs": [],
   "source": [
    "import win32com.client as win32"
   ]
  },
  {
   "cell_type": "code",
   "execution_count": 4,
   "metadata": {},
   "outputs": [],
   "source": [
    "# send mail from the account that is currently logged in\n",
    "\n",
    "outlook = win32.Dispatch('outlook.application')\n",
    "mail = outlook.CreateItem(0)\n",
    "mail.To = 'testmail@mail.com'\n",
    "mail.Subject = 'Mail subject'\n",
    "mail.Body = 'Mail body...' # for plain text body\n",
    "#mail.HTMLBody = '' # for HTML body\n",
    "mail.Display(True) # \n",
    "#mail.send"
   ]
  },
  {
   "cell_type": "code",
   "execution_count": null,
   "metadata": {},
   "outputs": [],
   "source": []
  }
 ],
 "metadata": {
  "kernelspec": {
   "display_name": "Python 3.9.7 ('base': conda)",
   "language": "python",
   "name": "python3"
  },
  "language_info": {
   "codemirror_mode": {
    "name": "ipython",
    "version": 3
   },
   "file_extension": ".py",
   "mimetype": "text/x-python",
   "name": "python",
   "nbconvert_exporter": "python",
   "pygments_lexer": "ipython3",
   "version": "3.9.7"
  },
  "orig_nbformat": 4,
  "vscode": {
   "interpreter": {
    "hash": "ae46a35857c7cfedbe1ebd82da43d5ccfcefac2eb17e4168ab76be043192e4f1"
   }
  }
 },
 "nbformat": 4,
 "nbformat_minor": 2
}
