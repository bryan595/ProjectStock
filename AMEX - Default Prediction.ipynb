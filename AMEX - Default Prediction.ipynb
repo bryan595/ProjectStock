{
 "cells": [
  {
   "cell_type": "code",
   "execution_count": null,
   "metadata": {},
   "outputs": [],
   "source": []
  }
 ],
 "metadata": {
  "kernelspec": {
   "display_name": "Python 3.9.7 ('base': conda)",
   "language": "python",
   "name": "python3"
  },
  "language_info": {
   "name": "python",
   "version": "3.9.7"
  },
  "orig_nbformat": 4,
  "vscode": {
   "interpreter": {
    "hash": "ae46a35857c7cfedbe1ebd82da43d5ccfcefac2eb17e4168ab76be043192e4f1"
   }
  }
 },
 "nbformat": 4,
 "nbformat_minor": 2
}
