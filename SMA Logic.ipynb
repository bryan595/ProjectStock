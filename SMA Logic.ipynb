{
 "cells": [
  {
   "cell_type": "code",
   "execution_count": 3,
   "id": "8de0f897",
   "metadata": {},
   "outputs": [],
   "source": [
    "from __future__ import (absolute_import, division, print_function,\n",
    "                        unicode_literals)\n",
    "\n",
    "\n",
    "import backtrader as bt\n",
    "import backtrader.indicators as btind\n"
   ]
  },
  {
   "cell_type": "code",
   "execution_count": 4,
   "id": "96a60859",
   "metadata": {},
   "outputs": [],
   "source": [
    "class MA_CrossOver(bt.Strategy):\n",
    "    '''This is a long-only strategy which operates on a moving average cross\n",
    "    Note:\n",
    "      - Although the default\n",
    "    Buy Logic:\n",
    "      - No position is open on the data\n",
    "      - The ``fast`` moving averagecrosses over the ``slow`` strategy to the\n",
    "        upside.\n",
    "    Sell Logic:\n",
    "      - A position exists on the data\n",
    "      - The ``fast`` moving average crosses over the ``slow`` strategy to the\n",
    "        downside\n",
    "    Order Execution Type:\n",
    "      - Market\n",
    "    '''\n",
    "    alias = ('SMA_CrossOver',)\n",
    "\n",
    "    params = (\n",
    "        # period for the fast Moving Average\n",
    "        ('fast', 10),\n",
    "        # period for the slow moving average\n",
    "        ('slow', 30),\n",
    "        # moving average to use\n",
    "        ('_movav', btind.MovAv.SMA)\n",
    "    )\n",
    "\n",
    "    def __init__(self):\n",
    "        sma_fast = self.p._movav(period=self.p.fast)\n",
    "        sma_slow = self.p._movav(period=self.p.slow)\n",
    "\n",
    "        self.buysig = btind.CrossOver(sma_fast, sma_slow)\n",
    "\n",
    "    def next(self):\n",
    "        if self.position.size:\n",
    "            if self.buysig < 0:\n",
    "                self.sell()\n",
    "\n",
    "        elif self.buysig > 0:\n",
    "            self.buy()"
   ]
  },
  {
   "cell_type": "code",
   "execution_count": null,
   "id": "f9b785ac",
   "metadata": {},
   "outputs": [],
   "source": []
  }
 ],
 "metadata": {
  "kernelspec": {
   "display_name": "Python 3.9.7 ('base')",
   "language": "python",
   "name": "python3"
  },
  "language_info": {
   "codemirror_mode": {
    "name": "ipython",
    "version": 3
   },
   "file_extension": ".py",
   "mimetype": "text/x-python",
   "name": "python",
   "nbconvert_exporter": "python",
   "pygments_lexer": "ipython3",
   "version": "3.9.7"
  },
  "vscode": {
   "interpreter": {
    "hash": "ae46a35857c7cfedbe1ebd82da43d5ccfcefac2eb17e4168ab76be043192e4f1"
   }
  }
 },
 "nbformat": 4,
 "nbformat_minor": 5
}
