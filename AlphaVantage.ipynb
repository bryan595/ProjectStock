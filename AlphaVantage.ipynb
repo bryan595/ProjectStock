{
 "cells": [
  {
   "cell_type": "code",
   "execution_count": 1,
   "id": "395ab42f",
   "metadata": {},
   "outputs": [],
   "source": [
    "import pandas as pd\n",
    "from alpha_vantage.timeseries import TimeSeries\n",
    "import time"
   ]
  },
  {
   "cell_type": "code",
   "execution_count": 2,
   "id": "32992b33",
   "metadata": {},
   "outputs": [],
   "source": [
    "api_key = '2B7SI4VS589EZ3LB'"
   ]
  },
  {
   "cell_type": "code",
   "execution_count": 3,
   "id": "8f6ee43e",
   "metadata": {},
   "outputs": [],
   "source": [
    "ts = TimeSeries(key=api_key, output_format='pandas')"
   ]
  },
  {
   "cell_type": "code",
   "execution_count": 4,
   "id": "87d4c641",
   "metadata": {},
   "outputs": [],
   "source": [
    "data, meta_data = ts.get_intraday(symbol='SPY', interval = '1min', outputsize = 'full')"
   ]
  },
  {
   "cell_type": "code",
   "execution_count": 5,
   "id": "d8b29659",
   "metadata": {},
   "outputs": [
    {
     "name": "stdout",
     "output_type": "stream",
     "text": [
      "                     1. open  2. high  3. low  4. close  5. volume\n",
      "date                                                              \n",
      "2022-06-02 20:00:00   418.04   418.04  417.92    418.00     3722.0\n",
      "2022-06-02 19:59:00   418.02   418.05  418.02    418.03      889.0\n",
      "2022-06-02 19:58:00   417.96   417.98  417.95    417.98     2905.0\n",
      "2022-06-02 19:57:00   418.01   418.02  418.00    418.00     2591.0\n",
      "2022-06-02 19:55:00   418.00   418.00  417.93    417.99     1654.0\n",
      "...                      ...      ...     ...       ...        ...\n",
      "2022-05-20 04:05:00   393.20   393.21  393.20    393.21      423.0\n",
      "2022-05-20 04:04:00   393.40   393.40  393.21    393.21      493.0\n",
      "2022-05-20 04:03:00   393.44   393.44  393.39    393.41     1072.0\n",
      "2022-05-20 04:02:00   393.43   393.48  393.41    393.41     7442.0\n",
      "2022-05-20 04:01:00   389.50   393.50  389.50    393.40     4862.0\n",
      "\n",
      "[7810 rows x 5 columns]\n"
     ]
    }
   ],
   "source": [
    "print(data)"
   ]
  },
  {
   "cell_type": "code",
   "execution_count": 6,
   "id": "046a675c",
   "metadata": {},
   "outputs": [
    {
     "data": {
      "text/html": [
       "<div>\n",
       "<style scoped>\n",
       "    .dataframe tbody tr th:only-of-type {\n",
       "        vertical-align: middle;\n",
       "    }\n",
       "\n",
       "    .dataframe tbody tr th {\n",
       "        vertical-align: top;\n",
       "    }\n",
       "\n",
       "    .dataframe thead th {\n",
       "        text-align: right;\n",
       "    }\n",
       "</style>\n",
       "<table border=\"1\" class=\"dataframe\">\n",
       "  <thead>\n",
       "    <tr style=\"text-align: right;\">\n",
       "      <th></th>\n",
       "      <th>1. open</th>\n",
       "      <th>2. high</th>\n",
       "      <th>3. low</th>\n",
       "      <th>4. close</th>\n",
       "      <th>5. volume</th>\n",
       "    </tr>\n",
       "  </thead>\n",
       "  <tbody>\n",
       "    <tr>\n",
       "      <th>count</th>\n",
       "      <td>7810.000000</td>\n",
       "      <td>7810.000000</td>\n",
       "      <td>7810.000000</td>\n",
       "      <td>7810.000000</td>\n",
       "      <td>7.810000e+03</td>\n",
       "    </tr>\n",
       "    <tr>\n",
       "      <th>mean</th>\n",
       "      <td>402.584307</td>\n",
       "      <td>402.698053</td>\n",
       "      <td>402.470490</td>\n",
       "      <td>402.586324</td>\n",
       "      <td>1.031494e+05</td>\n",
       "    </tr>\n",
       "    <tr>\n",
       "      <th>std</th>\n",
       "      <td>9.800118</td>\n",
       "      <td>9.783218</td>\n",
       "      <td>9.821091</td>\n",
       "      <td>9.801267</td>\n",
       "      <td>2.112688e+05</td>\n",
       "    </tr>\n",
       "    <tr>\n",
       "      <th>min</th>\n",
       "      <td>380.655000</td>\n",
       "      <td>380.790000</td>\n",
       "      <td>380.540000</td>\n",
       "      <td>380.660000</td>\n",
       "      <td>1.000000e+02</td>\n",
       "    </tr>\n",
       "    <tr>\n",
       "      <th>25%</th>\n",
       "      <td>393.742500</td>\n",
       "      <td>393.827450</td>\n",
       "      <td>393.660000</td>\n",
       "      <td>393.742500</td>\n",
       "      <td>1.705500e+03</td>\n",
       "    </tr>\n",
       "    <tr>\n",
       "      <th>50%</th>\n",
       "      <td>404.420000</td>\n",
       "      <td>404.505000</td>\n",
       "      <td>404.295000</td>\n",
       "      <td>404.425950</td>\n",
       "      <td>2.327450e+04</td>\n",
       "    </tr>\n",
       "    <tr>\n",
       "      <th>75%</th>\n",
       "      <td>412.278750</td>\n",
       "      <td>412.409975</td>\n",
       "      <td>412.160000</td>\n",
       "      <td>412.273750</td>\n",
       "      <td>1.435910e+05</td>\n",
       "    </tr>\n",
       "    <tr>\n",
       "      <th>max</th>\n",
       "      <td>418.550000</td>\n",
       "      <td>418.600000</td>\n",
       "      <td>418.470000</td>\n",
       "      <td>418.600000</td>\n",
       "      <td>4.750720e+06</td>\n",
       "    </tr>\n",
       "  </tbody>\n",
       "</table>\n",
       "</div>"
      ],
      "text/plain": [
       "           1. open      2. high       3. low     4. close     5. volume\n",
       "count  7810.000000  7810.000000  7810.000000  7810.000000  7.810000e+03\n",
       "mean    402.584307   402.698053   402.470490   402.586324  1.031494e+05\n",
       "std       9.800118     9.783218     9.821091     9.801267  2.112688e+05\n",
       "min     380.655000   380.790000   380.540000   380.660000  1.000000e+02\n",
       "25%     393.742500   393.827450   393.660000   393.742500  1.705500e+03\n",
       "50%     404.420000   404.505000   404.295000   404.425950  2.327450e+04\n",
       "75%     412.278750   412.409975   412.160000   412.273750  1.435910e+05\n",
       "max     418.550000   418.600000   418.470000   418.600000  4.750720e+06"
      ]
     },
     "execution_count": 6,
     "metadata": {},
     "output_type": "execute_result"
    }
   ],
   "source": [
    "data.describe()"
   ]
  },
  {
   "cell_type": "code",
   "execution_count": 7,
   "id": "446177a8",
   "metadata": {},
   "outputs": [
    {
     "name": "stdout",
     "output_type": "stream",
     "text": [
      "                     1. open  2. high  3. low  4. close  5. volume  Range\n",
      "date                                                                     \n",
      "2022-06-02 20:00:00   418.04   418.04  417.92    418.00     3722.0   0.12\n",
      "2022-06-02 19:59:00   418.02   418.05  418.02    418.03      889.0   0.03\n",
      "2022-06-02 19:58:00   417.96   417.98  417.95    417.98     2905.0   0.03\n",
      "2022-06-02 19:57:00   418.01   418.02  418.00    418.00     2591.0   0.02\n",
      "2022-06-02 19:55:00   418.00   418.00  417.93    417.99     1654.0   0.07\n",
      "...                      ...      ...     ...       ...        ...    ...\n",
      "2022-05-20 04:05:00   393.20   393.21  393.20    393.21      423.0   0.01\n",
      "2022-05-20 04:04:00   393.40   393.40  393.21    393.21      493.0   0.19\n",
      "2022-05-20 04:03:00   393.44   393.44  393.39    393.41     1072.0   0.05\n",
      "2022-05-20 04:02:00   393.43   393.48  393.41    393.41     7442.0   0.07\n",
      "2022-05-20 04:01:00   389.50   393.50  389.50    393.40     4862.0   4.00\n",
      "\n",
      "[7810 rows x 6 columns]\n"
     ]
    }
   ],
   "source": [
    "data['Range'] = data['2. high'] - data['3. low']\n",
    "print(data)"
   ]
  },
  {
   "cell_type": "code",
   "execution_count": 8,
   "id": "60d645b5",
   "metadata": {},
   "outputs": [
    {
     "data": {
      "text/plain": [
       "<bound method NDFrame.head of                      1. open  2. high  3. low  4. close  5. volume  Range\n",
       "date                                                                     \n",
       "2022-06-02 20:00:00   418.04   418.04  417.92    418.00     3722.0   0.12\n",
       "2022-06-02 19:59:00   418.02   418.05  418.02    418.03      889.0   0.03\n",
       "2022-06-02 19:58:00   417.96   417.98  417.95    417.98     2905.0   0.03\n",
       "2022-06-02 19:57:00   418.01   418.02  418.00    418.00     2591.0   0.02\n",
       "2022-06-02 19:55:00   418.00   418.00  417.93    417.99     1654.0   0.07\n",
       "2022-06-02 19:54:00   417.92   417.92  417.92    417.92      306.0   0.00\n",
       "2022-06-02 19:53:00   417.90   417.95  417.90    417.95      992.0   0.05\n",
       "2022-06-02 19:52:00   417.91   417.92  417.90    417.90     1540.0   0.02\n",
       "2022-06-02 19:51:00   417.88   417.92  417.88    417.89     1269.0   0.04\n",
       "2022-06-02 19:50:00   417.90   417.91  417.89    417.91     3448.0   0.02\n",
       "2022-06-02 19:49:00   417.94   417.95  417.89    417.92     1308.0   0.06\n",
       "2022-06-02 19:47:00   417.95   417.95  417.91    417.91      329.0   0.04\n",
       "2022-06-02 19:46:00   418.07   418.07  417.95    417.97     2291.0   0.12\n",
       "2022-06-02 19:45:00   418.07   418.07  418.07    418.07      652.0   0.00\n",
       "2022-06-02 19:44:00   418.02   418.04  418.02    418.04      689.0   0.02\n",
       "2022-06-02 19:42:00   418.05   418.05  418.05    418.05      374.0   0.00\n",
       "2022-06-02 19:41:00   418.10   418.10  418.05    418.05      286.0   0.05\n",
       "2022-06-02 19:36:00   418.22   418.22  418.20    418.20      870.0   0.02\n",
       "2022-06-02 19:35:00   418.19   418.26  418.19    418.26      629.0   0.07\n",
       "2022-06-02 19:32:00   418.12   418.12  418.12    418.12      678.0   0.00\n",
       "2022-06-02 19:31:00   418.11   418.11  418.11    418.11      140.0   0.00\n",
       "2022-06-02 19:26:00   418.20   418.23  418.12    418.12     2166.0   0.11\n",
       "2022-06-02 19:24:00   418.15   418.15  418.15    418.15      209.0   0.00\n",
       "2022-06-02 19:23:00   418.29   418.29  418.21    418.21     1231.0   0.08\n",
       "2022-06-02 19:22:00   418.26   418.26  418.26    418.26     1129.0   0.00>"
      ]
     },
     "execution_count": 8,
     "metadata": {},
     "output_type": "execute_result"
    }
   ],
   "source": [
    "data = data.iloc[:25]\n",
    "data.head"
   ]
  },
  {
   "cell_type": "code",
   "execution_count": 11,
   "id": "40d6a17d",
   "metadata": {},
   "outputs": [
    {
     "ename": "KeyError",
     "evalue": "'date'",
     "output_type": "error",
     "traceback": [
      "\u001b[1;31m---------------------------------------------------------------------------\u001b[0m",
      "\u001b[1;31mKeyError\u001b[0m                                  Traceback (most recent call last)",
      "\u001b[1;32m~\\Anaconda3\\lib\\site-packages\\pandas\\core\\indexes\\base.py\u001b[0m in \u001b[0;36mget_loc\u001b[1;34m(self, key, method, tolerance)\u001b[0m\n\u001b[0;32m   3360\u001b[0m             \u001b[1;32mtry\u001b[0m\u001b[1;33m:\u001b[0m\u001b[1;33m\u001b[0m\u001b[1;33m\u001b[0m\u001b[0m\n\u001b[1;32m-> 3361\u001b[1;33m                 \u001b[1;32mreturn\u001b[0m \u001b[0mself\u001b[0m\u001b[1;33m.\u001b[0m\u001b[0m_engine\u001b[0m\u001b[1;33m.\u001b[0m\u001b[0mget_loc\u001b[0m\u001b[1;33m(\u001b[0m\u001b[0mcasted_key\u001b[0m\u001b[1;33m)\u001b[0m\u001b[1;33m\u001b[0m\u001b[1;33m\u001b[0m\u001b[0m\n\u001b[0m\u001b[0;32m   3362\u001b[0m             \u001b[1;32mexcept\u001b[0m \u001b[0mKeyError\u001b[0m \u001b[1;32mas\u001b[0m \u001b[0merr\u001b[0m\u001b[1;33m:\u001b[0m\u001b[1;33m\u001b[0m\u001b[1;33m\u001b[0m\u001b[0m\n",
      "\u001b[1;32m~\\Anaconda3\\lib\\site-packages\\pandas\\_libs\\index.pyx\u001b[0m in \u001b[0;36mpandas._libs.index.IndexEngine.get_loc\u001b[1;34m()\u001b[0m\n",
      "\u001b[1;32m~\\Anaconda3\\lib\\site-packages\\pandas\\_libs\\index.pyx\u001b[0m in \u001b[0;36mpandas._libs.index.IndexEngine.get_loc\u001b[1;34m()\u001b[0m\n",
      "\u001b[1;32mpandas\\_libs\\hashtable_class_helper.pxi\u001b[0m in \u001b[0;36mpandas._libs.hashtable.PyObjectHashTable.get_item\u001b[1;34m()\u001b[0m\n",
      "\u001b[1;32mpandas\\_libs\\hashtable_class_helper.pxi\u001b[0m in \u001b[0;36mpandas._libs.hashtable.PyObjectHashTable.get_item\u001b[1;34m()\u001b[0m\n",
      "\u001b[1;31mKeyError\u001b[0m: 'date'",
      "\nThe above exception was the direct cause of the following exception:\n",
      "\u001b[1;31mKeyError\u001b[0m                                  Traceback (most recent call last)",
      "\u001b[1;32mC:\\Users\\BRYANL~1\\AppData\\Local\\Temp/ipykernel_12992/1526952981.py\u001b[0m in \u001b[0;36m<module>\u001b[1;34m\u001b[0m\n\u001b[0;32m      1\u001b[0m \u001b[0mSpread\u001b[0m \u001b[1;33m=\u001b[0m \u001b[0mdata\u001b[0m\u001b[1;33m[\u001b[0m\u001b[1;34m'Range'\u001b[0m\u001b[1;33m]\u001b[0m\u001b[1;33m\u001b[0m\u001b[1;33m\u001b[0m\u001b[0m\n\u001b[1;32m----> 2\u001b[1;33m \u001b[0mDate\u001b[0m \u001b[1;33m=\u001b[0m \u001b[0mdata\u001b[0m\u001b[1;33m[\u001b[0m\u001b[1;34m'date'\u001b[0m\u001b[1;33m]\u001b[0m\u001b[1;33m\u001b[0m\u001b[1;33m\u001b[0m\u001b[0m\n\u001b[0m",
      "\u001b[1;32m~\\Anaconda3\\lib\\site-packages\\pandas\\core\\frame.py\u001b[0m in \u001b[0;36m__getitem__\u001b[1;34m(self, key)\u001b[0m\n\u001b[0;32m   3456\u001b[0m             \u001b[1;32mif\u001b[0m \u001b[0mself\u001b[0m\u001b[1;33m.\u001b[0m\u001b[0mcolumns\u001b[0m\u001b[1;33m.\u001b[0m\u001b[0mnlevels\u001b[0m \u001b[1;33m>\u001b[0m \u001b[1;36m1\u001b[0m\u001b[1;33m:\u001b[0m\u001b[1;33m\u001b[0m\u001b[1;33m\u001b[0m\u001b[0m\n\u001b[0;32m   3457\u001b[0m                 \u001b[1;32mreturn\u001b[0m \u001b[0mself\u001b[0m\u001b[1;33m.\u001b[0m\u001b[0m_getitem_multilevel\u001b[0m\u001b[1;33m(\u001b[0m\u001b[0mkey\u001b[0m\u001b[1;33m)\u001b[0m\u001b[1;33m\u001b[0m\u001b[1;33m\u001b[0m\u001b[0m\n\u001b[1;32m-> 3458\u001b[1;33m             \u001b[0mindexer\u001b[0m \u001b[1;33m=\u001b[0m \u001b[0mself\u001b[0m\u001b[1;33m.\u001b[0m\u001b[0mcolumns\u001b[0m\u001b[1;33m.\u001b[0m\u001b[0mget_loc\u001b[0m\u001b[1;33m(\u001b[0m\u001b[0mkey\u001b[0m\u001b[1;33m)\u001b[0m\u001b[1;33m\u001b[0m\u001b[1;33m\u001b[0m\u001b[0m\n\u001b[0m\u001b[0;32m   3459\u001b[0m             \u001b[1;32mif\u001b[0m \u001b[0mis_integer\u001b[0m\u001b[1;33m(\u001b[0m\u001b[0mindexer\u001b[0m\u001b[1;33m)\u001b[0m\u001b[1;33m:\u001b[0m\u001b[1;33m\u001b[0m\u001b[1;33m\u001b[0m\u001b[0m\n\u001b[0;32m   3460\u001b[0m                 \u001b[0mindexer\u001b[0m \u001b[1;33m=\u001b[0m \u001b[1;33m[\u001b[0m\u001b[0mindexer\u001b[0m\u001b[1;33m]\u001b[0m\u001b[1;33m\u001b[0m\u001b[1;33m\u001b[0m\u001b[0m\n",
      "\u001b[1;32m~\\Anaconda3\\lib\\site-packages\\pandas\\core\\indexes\\base.py\u001b[0m in \u001b[0;36mget_loc\u001b[1;34m(self, key, method, tolerance)\u001b[0m\n\u001b[0;32m   3361\u001b[0m                 \u001b[1;32mreturn\u001b[0m \u001b[0mself\u001b[0m\u001b[1;33m.\u001b[0m\u001b[0m_engine\u001b[0m\u001b[1;33m.\u001b[0m\u001b[0mget_loc\u001b[0m\u001b[1;33m(\u001b[0m\u001b[0mcasted_key\u001b[0m\u001b[1;33m)\u001b[0m\u001b[1;33m\u001b[0m\u001b[1;33m\u001b[0m\u001b[0m\n\u001b[0;32m   3362\u001b[0m             \u001b[1;32mexcept\u001b[0m \u001b[0mKeyError\u001b[0m \u001b[1;32mas\u001b[0m \u001b[0merr\u001b[0m\u001b[1;33m:\u001b[0m\u001b[1;33m\u001b[0m\u001b[1;33m\u001b[0m\u001b[0m\n\u001b[1;32m-> 3363\u001b[1;33m                 \u001b[1;32mraise\u001b[0m \u001b[0mKeyError\u001b[0m\u001b[1;33m(\u001b[0m\u001b[0mkey\u001b[0m\u001b[1;33m)\u001b[0m \u001b[1;32mfrom\u001b[0m \u001b[0merr\u001b[0m\u001b[1;33m\u001b[0m\u001b[1;33m\u001b[0m\u001b[0m\n\u001b[0m\u001b[0;32m   3364\u001b[0m \u001b[1;33m\u001b[0m\u001b[0m\n\u001b[0;32m   3365\u001b[0m         \u001b[1;32mif\u001b[0m \u001b[0mis_scalar\u001b[0m\u001b[1;33m(\u001b[0m\u001b[0mkey\u001b[0m\u001b[1;33m)\u001b[0m \u001b[1;32mand\u001b[0m \u001b[0misna\u001b[0m\u001b[1;33m(\u001b[0m\u001b[0mkey\u001b[0m\u001b[1;33m)\u001b[0m \u001b[1;32mand\u001b[0m \u001b[1;32mnot\u001b[0m \u001b[0mself\u001b[0m\u001b[1;33m.\u001b[0m\u001b[0mhasnans\u001b[0m\u001b[1;33m:\u001b[0m\u001b[1;33m\u001b[0m\u001b[1;33m\u001b[0m\u001b[0m\n",
      "\u001b[1;31mKeyError\u001b[0m: 'date'"
     ]
    }
   ],
   "source": [
    "Spread = data['Range']\n",
    "Date = data['date']"
   ]
  },
  {
   "cell_type": "code",
   "execution_count": null,
   "id": "f6dd51ef",
   "metadata": {},
   "outputs": [],
   "source": []
  }
 ],
 "metadata": {
  "kernelspec": {
   "display_name": "Python 3 (ipykernel)",
   "language": "python",
   "name": "python3"
  },
  "language_info": {
   "codemirror_mode": {
    "name": "ipython",
    "version": 3
   },
   "file_extension": ".py",
   "mimetype": "text/x-python",
   "name": "python",
   "nbconvert_exporter": "python",
   "pygments_lexer": "ipython3",
   "version": "3.9.7"
  }
 },
 "nbformat": 4,
 "nbformat_minor": 5
}
