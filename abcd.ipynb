{
 "cells": [
  {
   "cell_type": "code",
   "execution_count": null,
   "id": "adcad947",
   "metadata": {},
   "outputs": [],
   "source": []
  }
 ],
 "metadata": {
  "kernelspec": {
   "display_name": "Python 3.9.7 ('base')",
   "language": "python",
   "name": "python3"
  },
  "language_info": {
   "codemirror_mode": {
    "name": "ipython",
    "version": 3
   },
   "file_extension": ".py",
   "mimetype": "text/x-python",
   "name": "python",
   "nbconvert_exporter": "python",
   "pygments_lexer": "ipython3",
   "version": "3.9.7"
  },
  "vscode": {
   "interpreter": {
    "hash": "ae46a35857c7cfedbe1ebd82da43d5ccfcefac2eb17e4168ab76be043192e4f1"
   }
  }
 },
 "nbformat": 4,
 "nbformat_minor": 5
}
