{
 "cells": [
  {
   "cell_type": "code",
   "execution_count": 1,
   "metadata": {
    "scrolled": true
   },
   "outputs": [],
   "source": [
    "#Make sure you download Alpha Vantage library\n",
    "\n",
    "import pandas as pd\n",
    "from alpha_vantage.timeseries import TimeSeries\n",
    "import time"
   ]
  },
  {
   "cell_type": "code",
   "execution_count": 2,
   "metadata": {},
   "outputs": [],
   "source": [
    "#Go to Alpha Vantage and create an API https://www.alphavantage.co/support/#api-key\n",
    "api_key = 'U7CCUSM2PR95A5TJ'"
   ]
  },
  {
   "cell_type": "code",
   "execution_count": 3,
   "metadata": {},
   "outputs": [],
   "source": [
    "ts = TimeSeries(key=api_key, output_format='pandas')"
   ]
  },
  {
   "cell_type": "code",
   "execution_count": 4,
   "metadata": {},
   "outputs": [],
   "source": [
    "#At the 'Symbol' type the ticker you would like to analyze and at the interval the time between open and close\n",
    "data, meta_data = ts.get_intraday(symbol='SPY', interval = '1min', outputsize = 'full' )"
   ]
  },
  {
   "cell_type": "code",
   "execution_count": 5,
   "metadata": {
    "scrolled": true
   },
   "outputs": [
    {
     "name": "stdout",
     "output_type": "stream",
     "text": [
      "                     1. open  2. high  3. low  4. close  5. volume\n",
      "date                                                              \n",
      "2021-08-11 20:00:00   443.56   443.57  443.56    443.57     1804.0\n",
      "2021-08-11 19:59:00   443.56   443.57  443.56    443.57      364.0\n",
      "2021-08-11 19:58:00   443.57   443.57  443.57    443.57      171.0\n",
      "2021-08-11 19:56:00   443.60   443.60  443.60    443.60      171.0\n",
      "2021-08-11 19:53:00   443.57   443.58  443.57    443.58      801.0\n",
      "...                      ...      ...     ...       ...        ...\n",
      "2021-07-29 04:17:00   439.46   439.46  439.46    439.46      100.0\n",
      "2021-07-29 04:09:00   439.22   439.26  439.22    439.24     1439.0\n",
      "2021-07-29 04:08:00   439.14   439.14  439.14    439.14      247.0\n",
      "2021-07-29 04:03:00   439.30   439.30  439.30    439.30      225.0\n",
      "2021-07-29 04:01:00   438.93   439.27  438.93    439.24      407.0\n",
      "\n",
      "[7575 rows x 5 columns]\n"
     ]
    }
   ],
   "source": [
    "print(data)"
   ]
  },
  {
   "cell_type": "code",
   "execution_count": 6,
   "metadata": {},
   "outputs": [],
   "source": [
    "y = data['1. open']"
   ]
  },
  {
   "cell_type": "code",
   "execution_count": 6,
   "metadata": {},
   "outputs": [],
   "source": [
    "i = 1"
   ]
  },
  {
   "cell_type": "code",
   "execution_count": 7,
   "metadata": {},
   "outputs": [],
   "source": [
    "close_data = data['4. close']\n",
    "percentage_change = close_data.pct_change()"
   ]
  },
  {
   "cell_type": "code",
   "execution_count": 8,
   "metadata": {},
   "outputs": [
    {
     "name": "stdout",
     "output_type": "stream",
     "text": [
      "date\n",
      "2021-07-20 20:00:00         NaN\n",
      "2021-07-20 19:58:00    0.000116\n",
      "2021-07-20 19:57:00   -0.000116\n",
      "2021-07-20 19:56:00   -0.000093\n",
      "2021-07-20 19:55:00    0.000023\n",
      "                         ...   \n",
      "2021-07-07 04:05:00   -0.000254\n",
      "2021-07-07 04:04:00   -0.000046\n",
      "2021-07-07 04:03:00   -0.000046\n",
      "2021-07-07 04:02:00   -0.000092\n",
      "2021-07-07 04:01:00   -0.000254\n",
      "Name: 4. close, Length: 8024, dtype: float64\n"
     ]
    }
   ],
   "source": [
    "print(percentage_change)"
   ]
  },
  {
   "cell_type": "code",
   "execution_count": 9,
   "metadata": {},
   "outputs": [
    {
     "data": {
      "text/html": [
       "<div>\n",
       "<style scoped>\n",
       "    .dataframe tbody tr th:only-of-type {\n",
       "        vertical-align: middle;\n",
       "    }\n",
       "\n",
       "    .dataframe tbody tr th {\n",
       "        vertical-align: top;\n",
       "    }\n",
       "\n",
       "    .dataframe thead th {\n",
       "        text-align: right;\n",
       "    }\n",
       "</style>\n",
       "<table border=\"1\" class=\"dataframe\">\n",
       "  <thead>\n",
       "    <tr style=\"text-align: right;\">\n",
       "      <th></th>\n",
       "      <th>1. open</th>\n",
       "      <th>2. high</th>\n",
       "      <th>3. low</th>\n",
       "      <th>4. close</th>\n",
       "      <th>5. volume</th>\n",
       "    </tr>\n",
       "  </thead>\n",
       "  <tbody>\n",
       "    <tr>\n",
       "      <th>count</th>\n",
       "      <td>8024.000000</td>\n",
       "      <td>8024.000000</td>\n",
       "      <td>8024.000000</td>\n",
       "      <td>8024.000000</td>\n",
       "      <td>8.024000e+03</td>\n",
       "    </tr>\n",
       "    <tr>\n",
       "      <th>mean</th>\n",
       "      <td>432.763618</td>\n",
       "      <td>432.821655</td>\n",
       "      <td>432.703970</td>\n",
       "      <td>432.764441</td>\n",
       "      <td>9.578014e+04</td>\n",
       "    </tr>\n",
       "    <tr>\n",
       "      <th>std</th>\n",
       "      <td>3.778706</td>\n",
       "      <td>3.757833</td>\n",
       "      <td>3.803327</td>\n",
       "      <td>3.778270</td>\n",
       "      <td>2.054970e+05</td>\n",
       "    </tr>\n",
       "    <tr>\n",
       "      <th>min</th>\n",
       "      <td>422.060000</td>\n",
       "      <td>422.165000</td>\n",
       "      <td>421.970000</td>\n",
       "      <td>422.050000</td>\n",
       "      <td>1.000000e+02</td>\n",
       "    </tr>\n",
       "    <tr>\n",
       "      <th>25%</th>\n",
       "      <td>430.653750</td>\n",
       "      <td>430.712175</td>\n",
       "      <td>430.600000</td>\n",
       "      <td>430.650000</td>\n",
       "      <td>1.634000e+03</td>\n",
       "    </tr>\n",
       "    <tr>\n",
       "      <th>50%</th>\n",
       "      <td>434.055450</td>\n",
       "      <td>434.100000</td>\n",
       "      <td>434.000000</td>\n",
       "      <td>434.059000</td>\n",
       "      <td>3.383200e+04</td>\n",
       "    </tr>\n",
       "    <tr>\n",
       "      <th>75%</th>\n",
       "      <td>435.600000</td>\n",
       "      <td>435.630000</td>\n",
       "      <td>435.580000</td>\n",
       "      <td>435.600000</td>\n",
       "      <td>1.203035e+05</td>\n",
       "    </tr>\n",
       "    <tr>\n",
       "      <th>max</th>\n",
       "      <td>437.890000</td>\n",
       "      <td>437.920000</td>\n",
       "      <td>437.770000</td>\n",
       "      <td>437.880000</td>\n",
       "      <td>5.912378e+06</td>\n",
       "    </tr>\n",
       "  </tbody>\n",
       "</table>\n",
       "</div>"
      ],
      "text/plain": [
       "           1. open      2. high       3. low     4. close     5. volume\n",
       "count  8024.000000  8024.000000  8024.000000  8024.000000  8.024000e+03\n",
       "mean    432.763618   432.821655   432.703970   432.764441  9.578014e+04\n",
       "std       3.778706     3.757833     3.803327     3.778270  2.054970e+05\n",
       "min     422.060000   422.165000   421.970000   422.050000  1.000000e+02\n",
       "25%     430.653750   430.712175   430.600000   430.650000  1.634000e+03\n",
       "50%     434.055450   434.100000   434.000000   434.059000  3.383200e+04\n",
       "75%     435.600000   435.630000   435.580000   435.600000  1.203035e+05\n",
       "max     437.890000   437.920000   437.770000   437.880000  5.912378e+06"
      ]
     },
     "execution_count": 9,
     "metadata": {},
     "output_type": "execute_result"
    }
   ],
   "source": [
    "data.describe()"
   ]
  },
  {
   "cell_type": "code",
   "execution_count": 10,
   "metadata": {},
   "outputs": [
    {
     "name": "stdout",
     "output_type": "stream",
     "text": [
      "-0.00025374855824689124\n"
     ]
    }
   ],
   "source": [
    "last_change = percentage_change[-1]\n",
    "print(last_change)"
   ]
  },
  {
   "cell_type": "code",
   "execution_count": 11,
   "metadata": {},
   "outputs": [],
   "source": [
    "if abs(last_change) > 0.0004:\n",
    "    print(\"S&P Alert:\" + last_change)"
   ]
  },
  {
   "cell_type": "code",
   "execution_count": 12,
   "metadata": {},
   "outputs": [
    {
     "name": "stdout",
     "output_type": "stream",
     "text": [
      "                     1. open  2. high  3. low  4. close  5. volume  \\\n",
      "date                                                                 \n",
      "2021-07-20 20:00:00   432.06   432.06  431.98    432.00     4402.0   \n",
      "2021-07-20 19:58:00   432.00   432.05  432.00    432.05      939.0   \n",
      "2021-07-20 19:57:00   432.01   432.01  431.98    432.00     2476.0   \n",
      "2021-07-20 19:56:00   431.97   431.97  431.96    431.96      965.0   \n",
      "2021-07-20 19:55:00   431.96   431.97  431.95    431.97     3453.0   \n",
      "...                      ...      ...     ...       ...        ...   \n",
      "2021-07-07 04:05:00   433.58   433.58  433.58    433.58     3822.0   \n",
      "2021-07-07 04:04:00   433.56   433.56  433.56    433.56     1587.0   \n",
      "2021-07-07 04:03:00   433.52   433.54  433.52    433.54      283.0   \n",
      "2021-07-07 04:02:00   433.39   433.50  433.39    433.50     2846.0   \n",
      "2021-07-07 04:01:00   433.27   433.39  432.90    433.39     2203.0   \n",
      "\n",
      "                     percent change  \n",
      "date                                 \n",
      "2021-07-20 20:00:00             NaN  \n",
      "2021-07-20 19:58:00        0.000116  \n",
      "2021-07-20 19:57:00       -0.000116  \n",
      "2021-07-20 19:56:00       -0.000093  \n",
      "2021-07-20 19:55:00        0.000023  \n",
      "...                             ...  \n",
      "2021-07-07 04:05:00       -0.000254  \n",
      "2021-07-07 04:04:00       -0.000046  \n",
      "2021-07-07 04:03:00       -0.000046  \n",
      "2021-07-07 04:02:00       -0.000092  \n",
      "2021-07-07 04:01:00       -0.000254  \n",
      "\n",
      "[8024 rows x 6 columns]\n"
     ]
    }
   ],
   "source": [
    "data[\"percent change\"] = percentage_change\n",
    "print(data)"
   ]
  },
  {
   "cell_type": "code",
   "execution_count": 13,
   "metadata": {},
   "outputs": [],
   "source": [
    "#Choose a file that you would like your data exported to \n",
    "datatoexcel = pd.ExcelWriter('S&Pout.xls')"
   ]
  },
  {
   "cell_type": "code",
   "execution_count": 14,
   "metadata": {},
   "outputs": [],
   "source": [
    "data.to_excel(datatoexcel)"
   ]
  },
  {
   "cell_type": "code",
   "execution_count": 15,
   "metadata": {},
   "outputs": [
    {
     "name": "stdout",
     "output_type": "stream",
     "text": [
      "DataFrame is written to Excel File Successfully\n"
     ]
    }
   ],
   "source": [
    "datatoexcel.save()\n",
    "print('DataFrame is written to Excel File Successfully')"
   ]
  },
  {
   "cell_type": "code",
   "execution_count": null,
   "metadata": {},
   "outputs": [],
   "source": []
  }
 ],
 "metadata": {
  "celltoolbar": "Raw Cell Format",
  "kernelspec": {
   "display_name": "Python 3",
   "language": "python",
   "name": "python3"
  },
  "language_info": {
   "codemirror_mode": {
    "name": "ipython",
    "version": 3
   },
   "file_extension": ".py",
   "mimetype": "text/x-python",
   "name": "python",
   "nbconvert_exporter": "python",
   "pygments_lexer": "ipython3",
   "version": "3.8.3"
  }
 },
 "nbformat": 4,
 "nbformat_minor": 4
}
